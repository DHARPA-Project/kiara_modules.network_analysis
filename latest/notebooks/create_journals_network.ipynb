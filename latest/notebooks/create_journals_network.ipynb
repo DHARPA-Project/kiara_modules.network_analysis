{
 "cells": [
  {
   "cell_type": "code",
   "execution_count": 27,
   "metadata": {
    "collapsed": true,
    "ExecuteTime": {
     "end_time": "2023-06-09T20:23:04.771304683Z",
     "start_time": "2023-06-09T20:23:04.730950571Z"
    }
   },
   "outputs": [],
   "source": [
    "# imports\n",
    "\n",
    "from pathlib import Path\n",
    "import os\n",
    "import networkx as nx\n",
    "import pandas as pd"
   ]
  },
  {
   "cell_type": "code",
   "execution_count": 28,
   "outputs": [],
   "source": [
    "# global variables\n",
    "\n",
    "THIS_DIR = Path(os.path.dirname(os.path.abspath('__file__')))\n",
    "DATA_DIR = THIS_DIR / \"..\" / \"..\" / \"examples\" / 'data'\n",
    "\n",
    "edges_file = DATA_DIR / \"journals\" / \"JournalEdges1902.csv\"\n",
    "nodes_file = DATA_DIR / \"journals\" / \"JournalNodes1902.csv\""
   ],
   "metadata": {
    "collapsed": false,
    "ExecuteTime": {
     "end_time": "2023-06-09T20:23:04.779145584Z",
     "start_time": "2023-06-09T20:23:04.771542849Z"
    }
   }
  },
  {
   "cell_type": "code",
   "execution_count": 29,
   "outputs": [],
   "source": [
    "# read the edges and nodes files\n",
    "edges = pd.read_csv(edges_file)\n",
    "nodes = pd.read_csv(nodes_file).to_dict(orient='records')\n",
    "\n",
    "\n",
    "properties = {\n",
    "    \"directed\": {},\n",
    "    \"undirected\": {},\n",
    "    \"directed_multi\": {},\n",
    "    \"undirected_multi\": {}\n",
    "}\n",
    "\n",
    "def add_nodes(graph, nodes):\n",
    "\n",
    "    for node in nodes:\n",
    "        graph.add_node(node[\"Id\"], **node)\n",
    "\n",
    "undirected = nx.from_pandas_edgelist(edges, source='Source', target='Target', edge_attr=True, create_using=nx.Graph)\n",
    "add_nodes(undirected, nodes)\n",
    "\n",
    "directed = nx.from_pandas_edgelist(edges, source='Source', target='Target', edge_attr=True, create_using=nx.DiGraph)\n",
    "add_nodes(directed, nodes)\n",
    "\n",
    "undirected_multi = nx.from_pandas_edgelist(edges, source='Source', target='Target', edge_attr=True, create_using=nx.MultiGraph)\n",
    "add_nodes(undirected_multi, nodes)\n",
    "\n",
    "directed_multi = nx.from_pandas_edgelist(edges, source='Source', target='Target', edge_attr=True, create_using=nx.MultiDiGraph)\n",
    "add_nodes(directed_multi, nodes)"
   ],
   "metadata": {
    "collapsed": false,
    "ExecuteTime": {
     "end_time": "2023-06-09T20:23:04.831661447Z",
     "start_time": "2023-06-09T20:23:04.781544692Z"
    }
   }
  },
  {
   "cell_type": "code",
   "execution_count": 30,
   "outputs": [],
   "source": [
    "# general graph properties\n",
    "\n",
    "properties[\"number_of_self_loops\"] = len(list(nx.selfloop_edges(undirected)))\n",
    "properties[\"number_of_nodes\"] = len(undirected.nodes)\n"
   ],
   "metadata": {
    "collapsed": false,
    "ExecuteTime": {
     "end_time": "2023-06-09T20:23:04.860752211Z",
     "start_time": "2023-06-09T20:23:04.831933016Z"
    }
   }
  },
  {
   "cell_type": "code",
   "execution_count": 31,
   "outputs": [
    {
     "data": {
      "text/plain": "{'directed': {},\n 'undirected': {'number_of_edges': 313},\n 'directed_multi': {},\n 'undirected_multi': {},\n 'number_of_self_loops': 1,\n 'number_of_nodes': 276}"
     },
     "execution_count": 31,
     "metadata": {},
     "output_type": "execute_result"
    }
   ],
   "source": [
    "# undirected\n",
    "\n",
    "properties[\"undirected\"][\"number_of_edges\"] = len(undirected.edges)\n",
    "\n",
    "properties\n"
   ],
   "metadata": {
    "collapsed": false,
    "ExecuteTime": {
     "end_time": "2023-06-09T20:23:04.906329575Z",
     "start_time": "2023-06-09T20:23:04.857040371Z"
    }
   }
  }
 ],
 "metadata": {
  "kernelspec": {
   "display_name": "Python 3",
   "language": "python",
   "name": "python3"
  },
  "language_info": {
   "codemirror_mode": {
    "name": "ipython",
    "version": 2
   },
   "file_extension": ".py",
   "mimetype": "text/x-python",
   "name": "python",
   "nbconvert_exporter": "python",
   "pygments_lexer": "ipython2",
   "version": "2.7.6"
  }
 },
 "nbformat": 4,
 "nbformat_minor": 0
}
