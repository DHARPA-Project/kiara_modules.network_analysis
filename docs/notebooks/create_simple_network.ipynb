{
 "cells": [
  {
   "cell_type": "code",
   "execution_count": 22,
   "metadata": {
    "collapsed": true,
    "ExecuteTime": {
     "end_time": "2023-06-09T19:55:14.082410039Z",
     "start_time": "2023-06-09T19:55:14.040003930Z"
    }
   },
   "outputs": [],
   "source": [
    "# imports\n",
    "\n",
    "from pathlib import Path\n",
    "import os\n",
    "import networkx as nx\n",
    "import pandas as pd"
   ]
  },
  {
   "cell_type": "code",
   "execution_count": 23,
   "outputs": [],
   "source": [
    "# global variables\n",
    "\n",
    "THIS_DIR = Path(os.path.dirname(os.path.abspath('__file__')))\n",
    "DATA_DIR = THIS_DIR / \"..\" / \"..\" / \"examples\" / 'data'\n",
    "\n",
    "edges_file = DATA_DIR / \"simple_networks\" / \"connected\" / \"SampleEdges.csv\"\n",
    "nodes_file = DATA_DIR / \"simple_networks\" / \"connected\" / \"SampleNodes.csv\""
   ],
   "metadata": {
    "collapsed": false,
    "ExecuteTime": {
     "end_time": "2023-06-09T19:55:14.087296972Z",
     "start_time": "2023-06-09T19:55:14.082844844Z"
    }
   }
  },
  {
   "cell_type": "code",
   "execution_count": 24,
   "outputs": [],
   "source": [
    "# read the edges and nodes files\n",
    "edges = pd.read_csv(edges_file)\n",
    "nodes = pd.read_csv(nodes_file)\n",
    "\n",
    "# create the graphs from the edges files\n",
    "undirected = nx.from_pandas_edgelist(edges, source='source', target='target', edge_attr=True, create_using=nx.Graph)\n",
    "directed = nx.from_pandas_edgelist(edges, source='source', target='target', edge_attr=True, create_using=nx.DiGraph)\n",
    "undirected_multi = nx.from_pandas_edgelist(edges, source='source', target='target', edge_attr=True, create_using=nx.MultiGraph)\n",
    "directed_multi = nx.from_pandas_edgelist(edges, source='source', target='target', edge_attr=True, create_using=nx.MultiDiGraph)"
   ],
   "metadata": {
    "collapsed": false,
    "ExecuteTime": {
     "end_time": "2023-06-09T19:55:14.130707413Z",
     "start_time": "2023-06-09T19:55:14.089173370Z"
    }
   }
  },
  {
   "cell_type": "code",
   "execution_count": 30,
   "outputs": [
    {
     "data": {
      "text/plain": "2"
     },
     "execution_count": 30,
     "metadata": {},
     "output_type": "execute_result"
    }
   ],
   "source": [
    "number_of_self_loops = len(list(nx.selfloop_edges(undirected)))\n",
    "number_of_self_loops\n"
   ],
   "metadata": {
    "collapsed": false,
    "ExecuteTime": {
     "end_time": "2023-06-09T19:57:04.373812708Z",
     "start_time": "2023-06-09T19:57:04.333367626Z"
    }
   }
  }
 ],
 "metadata": {
  "kernelspec": {
   "display_name": "Python 3",
   "language": "python",
   "name": "python3"
  },
  "language_info": {
   "codemirror_mode": {
    "name": "ipython",
    "version": 2
   },
   "file_extension": ".py",
   "mimetype": "text/x-python",
   "name": "python",
   "nbconvert_exporter": "python",
   "pygments_lexer": "ipython2",
   "version": "2.7.6"
  }
 },
 "nbformat": 4,
 "nbformat_minor": 0
}
